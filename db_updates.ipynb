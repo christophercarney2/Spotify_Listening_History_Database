{
 "cells": [
  {
   "cell_type": "code",
   "execution_count": null,
   "id": "5ab5965f-17e6-4442-8d14-420f951e9e02",
   "metadata": {},
   "outputs": [],
   "source": [
    "\"\"\"\n",
    "Script to update the music listening history table to include the artist and album IDs from Spotify. These values are not populated in the files provided by Spotify, and must be accessed via the API. Also handles naturally occurring duplicates.\n",
    "\n",
    "This script performs the following steps:\n",
    "1. Initialize logging and establish a connection to the database.\n",
    "2. Update the music listening history with artist and album ID. \n",
    "3. Process duplicate artists, appending a numerical suffix to artists with the same name and less followers throughout the database.\n",
    "4. Execute queries to update the track mapping and consolidated tracks tables. Combine tracks with the same name but different IDs. The song lengths must be within 3 seconds of each other, and the sort order is album version > single > compilation. \n",
    "\n",
    "This script is intended to be run as a standalone process after all data is loaded to complete the database.\n",
    "\"\"\"\n",
    "\n",
    "from utils.logging_config import setup_logger, finalize_logger\n",
    "from utils.db_utils import (\n",
    "    initialize_db,\n",
    "    update_music_listening_history,\n",
    "    process_duplicate_artists,\n",
    "    music_listening_history_table,\n",
    "    tracks_table,\n",
    "    artists_table,\n",
    "    artist_genre_table,\n",
    "    track_mapping_table,\n",
    "    tracks_consolidated_table,\n",
    "    TRACK_MAPPING_QUERY,\n",
    "    TRACKS_CONSOLIDATED_QUERY,\n",
    ")\n",
    "import logging\n",
    "from sqlalchemy import text\n",
    "\n",
    "\n",
    "def main():\n",
    "    \"\"\"Main function to update duplicate artists and tracks in the database.\"\"\"\n",
    "    logger = setup_logger('db_updates_logger', 'db_updates.log', log_level='INFO')\n",
    "    db, metadata = initialize_db()\n",
    "\n",
    "    with db.connect() as conn:\n",
    "        # Updates the music listening history with artist and album ID\n",
    "        update_music_listening_history(\n",
    "            conn, music_listening_history_table, tracks_table, logger\n",
    "        )\n",
    "\n",
    "        process_duplicate_artists(conn, music_listening_history_table, artists_table, logger)\n",
    "\n",
    "        # Runs SQL from db_utils to create the track mapping and track consolidated tables\n",
    "        conn.execute(text(TRACK_MAPPING_QUERY))\n",
    "        logger.info(\"track_mapping table updated\")\n",
    "        conn.execute(text(TRACKS_CONSOLIDATED_QUERY))\n",
    "        logger.info(\"tracks_consolidated table updated\")\n",
    "        conn.commit()\n",
    "\n",
    "    finalize_logger(logger)\n",
    "\n",
    "if __name__ == \"__main__\":\n",
    "    main()"
   ]
  }
 ],
 "metadata": {
  "kernelspec": {
   "display_name": "venv",
   "language": "python",
   "name": "venv"
  },
  "language_info": {
   "codemirror_mode": {
    "name": "ipython",
    "version": 3
   },
   "file_extension": ".py",
   "mimetype": "text/x-python",
   "name": "python",
   "nbconvert_exporter": "python",
   "pygments_lexer": "ipython3",
   "version": "3.9.1"
  }
 },
 "nbformat": 4,
 "nbformat_minor": 5
}
