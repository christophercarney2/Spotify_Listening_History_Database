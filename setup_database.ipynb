{
 "cells": [
  {
   "cell_type": "code",
   "execution_count": null,
   "id": "02a712ae-b1d7-4996-9489-38b2840894e5",
   "metadata": {},
   "outputs": [],
   "source": [
    "\"\"\"\n",
    "Script to set up the database by creating the required tables. Assumes the tables do not already exist.\n",
    "\n",
    "This script performs the following steps:\n",
    "1. Initialize logging.\n",
    "2. Establish a connection to the database.\n",
    "3. Create the necessary tables in the database, as defined in the db_utils.py module.\n",
    "\n",
    "This script is intended to be run as a standalone process for database setup.\n",
    "\"\"\"\n",
    "\n",
    "from utils.logging_config import setup_logger, finalize_logger\n",
    "from utils.db_utils import get_db_connection, create_tables\n",
    "import logging\n",
    "import os\n",
    "from datetime import datetime\n",
    "\n",
    "def main():\n",
    "    \"\"\"Main function to configure logging and create the database tables.\"\"\"\n",
    "    logger = setup_logger('setup_database_logger', 'setup_database.log', log_level='INFO')\n",
    "    engine = get_db_connection()\n",
    "\n",
    "    # Creates the tables defined in db_utils\n",
    "    create_tables(engine, logger)\n",
    "    logger.info(\"Database setup complete.\")\n",
    "\n",
    "    finalize_logger(logger)\n",
    "\n",
    "\n",
    "if __name__ == \"__main__\":\n",
    "    main()"
   ]
  },
  {
   "cell_type": "code",
   "execution_count": null,
   "id": "ecb004aa-448c-4ada-a85e-05732d46f3c9",
   "metadata": {},
   "outputs": [],
   "source": []
  },
  {
   "cell_type": "code",
   "execution_count": null,
   "id": "64fb051b-ed3d-49bb-91ab-68cfbee74806",
   "metadata": {},
   "outputs": [],
   "source": []
  }
 ],
 "metadata": {
  "kernelspec": {
   "display_name": "venv",
   "language": "python",
   "name": "venv"
  },
  "language_info": {
   "codemirror_mode": {
    "name": "ipython",
    "version": 3
   },
   "file_extension": ".py",
   "mimetype": "text/x-python",
   "name": "python",
   "nbconvert_exporter": "python",
   "pygments_lexer": "ipython3",
   "version": "3.9.1"
  }
 },
 "nbformat": 4,
 "nbformat_minor": 5
}
