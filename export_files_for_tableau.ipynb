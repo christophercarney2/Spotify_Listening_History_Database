{
 "cells": [
  {
   "cell_type": "code",
   "execution_count": null,
   "id": "d9eadde0-2b38-4e92-b1f3-6e5e106ede1d",
   "metadata": {},
   "outputs": [],
   "source": [
    "\"\"\"\n",
    "Script to export all database tables to CSV files.\n",
    "\n",
    "This script performs the following steps:\n",
    "1. Initialize logging, load configuration settings, connect to the database.\n",
    "2. Export each table in the database to a CSV file, save it to a specified directory.\n",
    "\n",
    "The script is intended to be run as a standalone process for database exports after the database is complete.\n",
    "\"\"\"\n",
    "\n",
    "from utils.logging_config import setup_logger, finalize_logger\n",
    "from utils.db_utils import fetch_table_to_dataframe, initialize_db, tables\n",
    "from utils.file_utils import save_dataframe_to_csv, load_config\n",
    "from sqlalchemy import select\n",
    "import logging\n",
    "import os\n",
    "\n",
    "def export_all_tables_to_csv(db, metadata, tables, data_path):\n",
    "    \"\"\"\n",
    "    Export all database tables to CSV files to be used by Tableau.\n",
    "\n",
    "    Args:\n",
    "        db (SQLAlchemy Engine): Database connection engine.\n",
    "        metadata (SQLAlchemy MetaData): Metadata object containing the database schema.\n",
    "        tables (dict): Dictionary of tables to be exported.\n",
    "        data_path (str): Directory path where CSV files will be saved.\n",
    "\n",
    "    Returns:\n",
    "        None\n",
    "    \"\"\"\n",
    "\n",
    "    with db.connect() as conn:\n",
    "        # Iterates over each table in the dictionary\n",
    "        for table_name, table in tables.items():\n",
    "            df = fetch_table_to_dataframe(conn, table)\n",
    "            file_path = os.path.join(data_path, f\"{table_name}.csv\")\n",
    "            save_dataframe_to_csv(df, file_path)\n",
    "            logger.info(f\"Exported {table_name} to {file_path}\")\n",
    "\n",
    "def main():\n",
    "     \"\"\"Main function to export tables to CSV files.\"\"\"\n",
    "    logger = setup_logger('tableau_export_logger', 'tableau_export.log', log_level='INFO')\n",
    "    db, metadata = initialize_db()\n",
    "    config = load_config()\n",
    "    data_path = data_path = config['Paths']['data_path']\n",
    "    \n",
    "    export_all_tables_to_csv(db, metadata, tables, data_path)\n",
    "\n",
    "    finalize_logger(logger)\n",
    "    \n",
    "if __name__ == \"__main__\":\n",
    "    main()"
   ]
  },
  {
   "cell_type": "code",
   "execution_count": null,
   "id": "8b5e5607-cf74-401f-ab1a-515ef9319329",
   "metadata": {},
   "outputs": [],
   "source": []
  }
 ],
 "metadata": {
  "kernelspec": {
   "display_name": "venv",
   "language": "python",
   "name": "venv"
  },
  "language_info": {
   "codemirror_mode": {
    "name": "ipython",
    "version": 3
   },
   "file_extension": ".py",
   "mimetype": "text/x-python",
   "name": "python",
   "nbconvert_exporter": "python",
   "pygments_lexer": "ipython3",
   "version": "3.9.1"
  }
 },
 "nbformat": 4,
 "nbformat_minor": 5
}
